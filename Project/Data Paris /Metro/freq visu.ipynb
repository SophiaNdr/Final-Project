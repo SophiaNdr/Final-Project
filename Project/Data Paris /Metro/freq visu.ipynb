{
 "cells": [
  {
   "cell_type": "code",
   "execution_count": 1,
   "id": "9851a78f",
   "metadata": {},
   "outputs": [],
   "source": [
    "import numpy as np\n",
    "import pandas as pd\n",
    "\n",
    "import matplotlib.pyplot as plt\n",
    "%matplotlib inline"
   ]
  },
  {
   "cell_type": "code",
   "execution_count": null,
   "id": "168e950e",
   "metadata": {},
   "outputs": [],
   "source": [
    "nb_2018s1 = pd.read_csv(\"validations-sur-le-reseau-ferre-nombre-de-validations-par-jour-1er-sem.csv\", sep=\";\")\n",
    "\n",
    "nb_2018s2 = pd.read_csv(\"validations-sur-le-reseau-ferre-nombre-de-validations-par-jour-2e-sem.csv\", sep = \";\")\n",
    "\n",
    "\n",
    "ref_stops = pd.read_csv('../../datasets/referentiel-arret-tc-idf.csv', sep=';')"
   ]
  },
  {
   "cell_type": "code",
   "execution_count": null,
   "id": "4a31fbac",
   "metadata": {},
   "outputs": [],
   "source": [
    "nb_2018s1.columns == nb_2018s2.columns"
   ]
  },
  {
   "cell_type": "code",
   "execution_count": null,
   "id": "79adb698",
   "metadata": {},
   "outputs": [],
   "source": [
    "cols = {'JOUR':'DAY', 'LIBELLE_ARRET':'STOP_NAME', 'CATEGORIE_TITRE':'TICKET_TYPE', 'NB_VALD':'NB_CHECKINS'}\n",
    "\n",
    "nb_2018s1.rename(cols, axis=1, inplace=True)\n",
    "nb_2018s2.rename(cols, axis=1, inplace=True)"
   ]
  },
  {
   "cell_type": "code",
   "execution_count": null,
   "id": "d3f73d71",
   "metadata": {},
   "outputs": [],
   "source": [
    "nb_2018s1.columns"
   ]
  },
  {
   "cell_type": "code",
   "execution_count": null,
   "id": "e38a4a3a",
   "metadata": {},
   "outputs": [],
   "source": [
    "nb_2018s2.columns"
   ]
  },
  {
   "cell_type": "code",
   "execution_count": null,
   "id": "e408c2e9",
   "metadata": {},
   "outputs": [],
   "source": [
    "nb_2018s1.loc[~nb_2018s1['CODE_STIF_RES'].astype(str).str.isnumeric(),'CODE_STIF_RES'].unique()"
   ]
  },
  {
   "cell_type": "code",
   "execution_count": null,
   "id": "c728e30a",
   "metadata": {},
   "outputs": [],
   "source": [
    "nb_2018s1.loc[~nb_2018s1['CODE_STIF_ARRET'].astype(str).str.isnumeric(),'CODE_STIF_ARRET'].unique()"
   ]
  },
  {
   "cell_type": "code",
   "execution_count": null,
   "id": "84a6e308",
   "metadata": {},
   "outputs": [],
   "source": [
    "nb_2018s1.loc[~nb_2018s1['NB_CHECKINS'].astype(str).str.isnumeric(),'NB_CHECKINS'].unique()"
   ]
  },
  {
   "cell_type": "code",
   "execution_count": null,
   "id": "c0930a5e",
   "metadata": {},
   "outputs": [],
   "source": []
  }
 ],
 "metadata": {
  "kernelspec": {
   "display_name": "Python 3 (ipykernel)",
   "language": "python",
   "name": "python3"
  },
  "language_info": {
   "codemirror_mode": {
    "name": "ipython",
    "version": 3
   },
   "file_extension": ".py",
   "mimetype": "text/x-python",
   "name": "python",
   "nbconvert_exporter": "python",
   "pygments_lexer": "ipython3",
   "version": "3.9.7"
  }
 },
 "nbformat": 4,
 "nbformat_minor": 5
}
